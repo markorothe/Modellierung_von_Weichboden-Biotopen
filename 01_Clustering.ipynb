{
 "cells": [
  {
   "cell_type": "code",
   "execution_count": 1,
   "metadata": {},
   "outputs": [
    {
     "ename": "ImportError",
     "evalue": "cannot import name 'import_functions' from 'src' (unknown location)",
     "output_type": "error",
     "traceback": [
      "\u001b[1;31m---------------------------------------------------------------------------\u001b[0m",
      "\u001b[1;31mImportError\u001b[0m                               Traceback (most recent call last)",
      "\u001b[1;32m<ipython-input-1-57b30aa17868>\u001b[0m in \u001b[0;36m<module>\u001b[1;34m\u001b[0m\n\u001b[1;32m----> 1\u001b[1;33m \u001b[1;32mfrom\u001b[0m \u001b[0msrc\u001b[0m \u001b[1;32mimport\u001b[0m \u001b[0mimport_functions\u001b[0m\u001b[1;33m,\u001b[0m \u001b[0mdata_filtering_functions\u001b[0m\u001b[1;33m,\u001b[0m \u001b[0mclustering_functions\u001b[0m\u001b[1;33m,\u001b[0m \u001b[0massignment_functions\u001b[0m\u001b[1;33m\u001b[0m\u001b[1;33m\u001b[0m\u001b[0m\n\u001b[0m\u001b[0;32m      2\u001b[0m \u001b[1;32mimport\u001b[0m \u001b[0mpandas\u001b[0m \u001b[1;32mas\u001b[0m \u001b[0mpd\u001b[0m\u001b[1;33m\u001b[0m\u001b[1;33m\u001b[0m\u001b[0m\n",
      "\u001b[1;31mImportError\u001b[0m: cannot import name 'import_functions' from 'src' (unknown location)"
     ]
    }
   ],
   "source": [
    "from src import import_functions, data_filtering_functions, clustering_functions, assignment_functions\n",
    "import pandas as pd"
   ]
  },
  {
   "cell_type": "markdown",
   "metadata": {},
   "source": [
    "## Import Benthosdatenbanken"
   ]
  },
  {
   "cell_type": "code",
   "execution_count": null,
   "metadata": {},
   "outputs": [],
   "source": [
    "input_files = ['DatenExport_AWI_critterbase_20220623_MK_TB.xlsx',\n",
    "               'DatenExport_DB_Nordsee_20220623_MK_TB.xlsx',\n",
    "               'DatenExport_GesammelteProjekte_20220623_MK_TB.xlsx']\n",
    "input_files = ['../01_Daten/BioConsult_Jun22/'+x for x in input_files]\n",
    "HAUL_DB = import_functions.multiple_excel_to_gdf(input_files)\n",
    "HAUL_DB = pd.concat(HAUL_DB)"
   ]
  },
  {
   "cell_type": "markdown",
   "metadata": {},
   "source": [
    "## Aufbereitung der Datensätze"
   ]
  },
  {
   "cell_type": "code",
   "execution_count": null,
   "metadata": {},
   "outputs": [],
   "source": [
    "HAUL_DB = data_filtering_functions.apply_specific_filter_haul_db(HAUL_DB)\n",
    "HAUL_DB = data_filtering_functions.replace_placeholders(HAUL_DB)"
   ]
  },
  {
   "cell_type": "markdown",
   "metadata": {},
   "source": [
    "## Fuzzy-K-Medoid-Clustering"
   ]
  },
  {
   "cell_type": "code",
   "execution_count": null,
   "metadata": {},
   "outputs": [],
   "source": [
    "settings = dict({'S-RP-3' : {'consistency':0.02, 'method':'FKM', 'transformation':'HF_Euc', 'ncluster': 3, 'fuzzyfication': 1.1},\n",
    "                 'NW-RP-4': {'consistency':0.02, 'method':'FKM', 'transformation':'HF_Euc', 'ncluster': 2, 'fuzzyfication': 1.3},\n",
    "                 'E-RP-7' : {'consistency':0.02, 'method':'FKM', 'transformation':'HF_Euc', 'ncluster': 4, 'fuzzyfication': 1.2},\n",
    "                 'NE-RP-4': {'consistency':0.02, 'method':'FKM', 'transformation':'HF_Euc', 'ncluster': 2, 'fuzzyfication': 1.1}\n",
    "})            \n",
    "clustering_functions.run_specific_cluster_settings(settings)"
   ]
  },
  {
   "cell_type": "markdown",
   "metadata": {},
   "source": [
    "## Zuweisung von Charakterarten"
   ]
  },
  {
   "cell_type": "code",
   "execution_count": null,
   "metadata": {},
   "outputs": [],
   "source": [
    "character_stat_scores = {\"ND\":0.03,\"AT\":0.6,\"P\":0.6,\"PT\":0.6,\"T\":8,\"Threshold_Sum\":3} \n",
    "assignment_functions.run_assignment_for_cluster_runs(character_stat_scores)"
   ]
  }
 ],
 "metadata": {
  "kernelspec": {
   "display_name": "Python 3",
   "language": "python",
   "name": "python3"
  },
  "language_info": {
   "codemirror_mode": {
    "name": "ipython",
    "version": 3
   },
   "file_extension": ".py",
   "mimetype": "text/x-python",
   "name": "python",
   "nbconvert_exporter": "python",
   "pygments_lexer": "ipython3",
   "version": "3.7.6"
  }
 },
 "nbformat": 4,
 "nbformat_minor": 4
}
